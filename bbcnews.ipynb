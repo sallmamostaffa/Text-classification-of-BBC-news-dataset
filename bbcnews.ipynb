{
  "nbformat": 4,
  "nbformat_minor": 0,
  "metadata": {
    "colab": {
      "provenance": [],
      "gpuType": "T4",
      "authorship_tag": "ABX9TyMRgC8XEMtwOyQGna0OYI/q",
      "include_colab_link": true
    },
    "kernelspec": {
      "name": "python3",
      "display_name": "Python 3"
    },
    "language_info": {
      "name": "python"
    },
    "accelerator": "GPU"
  },
  "cells": [
    {
      "cell_type": "markdown",
      "metadata": {
        "id": "view-in-github",
        "colab_type": "text"
      },
      "source": [
        "<a href=\"https://colab.research.google.com/github/sallmamostaffa/salma/blob/main/bbcnews.ipynb\" target=\"_parent\"><img src=\"https://colab.research.google.com/assets/colab-badge.svg\" alt=\"Open In Colab\"/></a>"
      ]
    },
    {
      "cell_type": "code",
      "execution_count": null,
      "metadata": {
        "colab": {
          "base_uri": "https://localhost:8080/"
        },
        "id": "IzfmxPPO0mRR",
        "outputId": "e4fffe1a-62c2-49ba-e4c8-88daf9cf81fc"
      },
      "outputs": [
        {
          "output_type": "stream",
          "name": "stdout",
          "text": [
            "--2023-10-19 17:27:44--  https://storage.googleapis.com/laurencemoroney-blog.appspot.com/bbc-text.csv\n",
            "Resolving storage.googleapis.com (storage.googleapis.com)... 74.125.126.207, 74.125.70.207, 142.250.152.207, ...\n",
            "Connecting to storage.googleapis.com (storage.googleapis.com)|74.125.126.207|:443... connected.\n",
            "HTTP request sent, awaiting response... 404 Not Found\n",
            "2023-10-19 17:27:44 ERROR 404: Not Found.\n",
            "\n"
          ]
        }
      ],
      "source": [
        "import csv\n",
        "import tensorflow as tf\n",
        "import numpy as np\n",
        "from tensorflow.keras.preprocessing.text import Tokenizer\n",
        "from tensorflow.keras.utils import pad_sequences\n",
        "!wget --no-check-certificate \\\n",
        "    https://storage.googleapis.com/laurencemoroney-blog.appspot.com/bbc-text.csv \\\n",
        "    -O /tmp/bbc-text.csv"
      ]
    },
    {
      "cell_type": "code",
      "source": [
        "vocab_size = 1000\n",
        "embedding_dim = 16\n",
        "max_length = 120\n",
        "trunc_type='post'\n",
        "padding_type='post'\n",
        "oov_tok = \"<oov>\"\n",
        "training_portion = .8"
      ],
      "metadata": {
        "id": "6QDx8rn__aU1"
      },
      "execution_count": null,
      "outputs": []
    },
    {
      "cell_type": "code",
      "source": [
        "sentences = []\n",
        "labels = []\n",
        "stopwords = [ \"a\", \"about\", \"above\", \"after\", \"again\", \"against\", \"all\", \"am\", \"an\", \"and\", \"any\", \"are\", \"as\", \"at\", \"be\", \"because\", \"been\", \"before\", \"being\", \"below\", \"between\", \"both\", \"but\", \"by\", \"could\", \"did\", \"do\", \"does\", \"doing\", \"down\", \"during\", \"each\", \"few\", \"for\", \"from\", \"further\", \"had\", \"has\", \"have\", \"having\", \"he\", \"he'd\", \"he'll\", \"he's\", \"her\", \"here\", \"here's\", \"hers\", \"herself\", \"him\", \"himself\", \"his\", \"how\", \"how's\", \"i\", \"i'd\", \"i'll\", \"i'm\", \"i've\", \"if\", \"in\", \"into\", \"is\", \"it\", \"it's\", \"its\", \"itself\", \"let's\", \"me\", \"more\", \"most\", \"my\", \"myself\", \"nor\", \"of\", \"on\", \"once\", \"only\", \"or\", \"other\", \"ought\", \"our\", \"ours\", \"ourselves\", \"out\", \"over\", \"own\", \"same\", \"she\", \"she'd\", \"she'll\", \"she's\", \"should\", \"so\", \"some\", \"such\", \"than\", \"that\", \"that's\", \"the\", \"their\", \"theirs\", \"them\", \"themselves\", \"then\", \"there\", \"there's\", \"these\", \"they\", \"they'd\", \"they'll\", \"they're\", \"they've\", \"this\", \"those\", \"through\", \"to\", \"too\", \"under\", \"until\", \"up\", \"very\", \"was\", \"we\", \"we'd\", \"we'll\", \"we're\", \"we've\", \"were\", \"what\", \"what's\", \"when\", \"when's\", \"where\", \"where's\", \"which\", \"while\", \"who\", \"who's\", \"whom\", \"why\", \"why's\", \"with\", \"would\", \"you\", \"you'd\", \"you'll\", \"you're\", \"you've\", \"your\", \"yours\", \"yourself\", \"yourselves\" ]\n",
        "print(len(stopwords))"
      ],
      "metadata": {
        "colab": {
          "base_uri": "https://localhost:8080/"
        },
        "id": "Fbtlu9sU_y-G",
        "outputId": "d691ca71-661d-4132-e0ab-8d6aae2d0fda"
      },
      "execution_count": null,
      "outputs": [
        {
          "output_type": "stream",
          "name": "stdout",
          "text": [
            "153\n"
          ]
        }
      ]
    },
    {
      "cell_type": "code",
      "source": [
        "import nltk\n",
        "nltk.download('stopwords')"
      ],
      "metadata": {
        "colab": {
          "base_uri": "https://localhost:8080/"
        },
        "id": "WgEKxtMrDKeI",
        "outputId": "5c764587-a2f7-4e09-ffe7-b289c0cc12e0"
      },
      "execution_count": null,
      "outputs": [
        {
          "output_type": "stream",
          "name": "stderr",
          "text": [
            "[nltk_data] Downloading package stopwords to /root/nltk_data...\n",
            "[nltk_data]   Unzipping corpora/stopwords.zip.\n"
          ]
        },
        {
          "output_type": "execute_result",
          "data": {
            "text/plain": [
              "True"
            ]
          },
          "metadata": {},
          "execution_count": 18
        }
      ]
    },
    {
      "cell_type": "code",
      "source": [
        "import csv\n",
        "import nltk\n",
        "from nltk.corpus import stopwords\n",
        "\n",
        "stopwords = set(stopwords.words('english'))\n",
        "\n",
        "labels = []\n",
        "sentences = []\n",
        "\n",
        "with open('/content/bbc-text (1).csv', 'r') as csvfile:\n",
        "    reader = csv.reader(csvfile, delimiter=',')\n",
        "    next(reader)\n",
        "    for row in reader:\n",
        "        if len(row) < 2:\n",
        "            continue\n",
        "        labels.append(row[0])\n",
        "        sentence = row[1]\n",
        "        for word in stopwords:\n",
        "            token = \" \" + word + \" \"\n",
        "            sentence = sentence.replace(token, \" \")\n",
        "        sentences.append(sentence)\n",
        "\n",
        "print(len(labels))\n",
        "print(len(sentences))\n",
        "print(sentences[0])\n"
      ],
      "metadata": {
        "colab": {
          "base_uri": "https://localhost:8080/"
        },
        "id": "ykjecDzDC4mv",
        "outputId": "d76b108d-aff0-43ec-ea1e-5fba365d04ac"
      },
      "execution_count": null,
      "outputs": [
        {
          "output_type": "stream",
          "name": "stdout",
          "text": [
            "2612\n",
            "2612\n",
            "tv future hands viewers home theatre systems  plasma high-definition tvs  digital video recorders moving living room  way people watch tv radically different five years  time.  according expert panel gathered annual consumer electronics show las vegas discuss new technologies impact one favourite pastimes. us leading trend  programmes content delivered viewers via home networks  cable  satellite  telecoms companies  broadband service providers front rooms portable devices.  one talked-about technologies ces digital personal video recorders (dvr pvr). set-top boxes  like us tivo uk sky+ system  allow people record  store  play  pause forward wind tv programmes want.  essentially  technology allows much personalised tv. also built-in high-definition tv sets  big business japan us  slower take europe lack high-definition programming. people forward wind adverts  also forget abiding network channel schedules  putting together a-la-carte entertainment. us networks cable satellite companies worried means terms advertising revenues well  brand identity  viewer loyalty channels. although us leads technology moment  also concern raised europe  particularly growing uptake services like sky+.  happens today  see nine months years  time uk   adam hume  bbc broadcast futurologist told bbc news website. likes bbc  issues lost advertising revenue yet. pressing issue moment commercial uk broadcasters  brand loyalty important everyone.  talking content brands rather network brands   said tim hanlon  brand communications firm starcom mediavest.  reality broadband connections  anybody producer content.  added:  challenge is hard promote programme much choice.   means  said stacey jolna  senior vice president tv guide tv group  way people find content want watch simplified tv viewers. means networks  us terms  channels could take leaf google book search engine future  instead scheduler help people find want watch. kind channel model might work younger ipod generation used taking control gadgets play them. might suit everyone  panel recognised. older generations comfortable familiar schedules channel brands know getting. perhaps want much choice put hands  mr hanlon suggested.  end  kids diapers pushing buttons already - everything possible available   said mr hanlon.  ultimately  consumer tell market want.   50 000 new gadgets technologies showcased ces  many enhancing tv-watching experience. high-definition tv sets everywhere many new models lcd (liquid crystal display) tvs launched dvr capability built  instead external boxes. one example launched show humax 26-inch lcd tv 80-hour tivo dvr dvd recorder. one us biggest satellite tv companies  directtv  even launched branded dvr show 100-hours recording capability  instant replay  search function. set pause rewind tv 90 hours. microsoft chief bill gates announced pre-show keynote speech partnership tivo  called tivotogo  means people play recorded programmes windows pcs mobile devices. reflect increasing trend freeing multimedia people watch want  want.\n"
          ]
        }
      ]
    },
    {
      "cell_type": "code",
      "source": [
        "train_size = int(len(sentences) * training_portion)\n",
        "\n",
        "train_sentences = sentences[:train_size]\n",
        "train_labels = labels[:train_size]\n",
        "\n",
        "validation_sentences = sentences[train_size:]\n",
        "validation_labels = labels[train_size:]\n",
        "\n",
        "print(\"train_size :\", train_size)\n",
        "print(\"len(train_sentences) = \",len(train_sentences))\n",
        "print(\"len(train_labels) = \", len(train_labels))\n",
        "print(\"len(validation_sentences) = \",len(validation_sentences))\n",
        "print(\"len(validation_labels) = \",len(validation_labels))"
      ],
      "metadata": {
        "colab": {
          "base_uri": "https://localhost:8080/"
        },
        "id": "i-7ierVBDh75",
        "outputId": "cff35c1e-d5fc-41ab-c5f8-56d5691c9f5a"
      },
      "execution_count": null,
      "outputs": [
        {
          "output_type": "stream",
          "name": "stdout",
          "text": [
            "train_size : 2089\n",
            "len(train_sentences) =  2089\n",
            "len(train_labels) =  2089\n",
            "len(validation_sentences) =  523\n",
            "len(validation_labels) =  523\n"
          ]
        }
      ]
    },
    {
      "cell_type": "code",
      "source": [
        "tokenizer = Tokenizer(num_words = vocab_size, oov_token=oov_tok)\n",
        "tokenizer.fit_on_texts(train_sentences)\n",
        "word_index = tokenizer.word_index\n",
        "\n",
        "train_sequences = tokenizer.texts_to_sequences(train_sentences)\n",
        "train_padded = pad_sequences(train_sequences, padding=padding_type, maxlen=max_length)\n",
        "\n",
        "print(len(train_sequences[0]))\n",
        "print(len(train_padded[0]))\n",
        "\n",
        "print(len(train_sequences[1]))\n",
        "print(len(train_padded[1]))\n",
        "\n",
        "print(len(train_sequences[10]))\n",
        "print(len(train_padded[10]))"
      ],
      "metadata": {
        "colab": {
          "base_uri": "https://localhost:8080/"
        },
        "id": "n7K0l-4qD3EX",
        "outputId": "66417238-1e19-48ed-d756-2d8628f8f4ed"
      },
      "execution_count": null,
      "outputs": [
        {
          "output_type": "stream",
          "name": "stdout",
          "text": [
            "426\n",
            "120\n",
            "192\n",
            "120\n",
            "186\n",
            "120\n"
          ]
        }
      ]
    },
    {
      "cell_type": "code",
      "source": [
        "validation_sequences = tokenizer.texts_to_sequences(validation_sentences)\n",
        "validation_padded = pad_sequences(validation_sequences, padding=padding_type, maxlen=max_length)\n",
        "\n",
        "print(len(validation_sequences))\n",
        "print(validation_padded.shape)"
      ],
      "metadata": {
        "colab": {
          "base_uri": "https://localhost:8080/"
        },
        "id": "pY3ajegrEZfm",
        "outputId": "2cc6d4c0-22e7-47e6-b8fb-c02c9ebcc281"
      },
      "execution_count": null,
      "outputs": [
        {
          "output_type": "stream",
          "name": "stdout",
          "text": [
            "523\n",
            "(523, 120)\n"
          ]
        }
      ]
    },
    {
      "cell_type": "code",
      "source": [
        "label_tokenizer = Tokenizer()\n",
        "label_tokenizer.fit_on_texts(labels)\n",
        "\n",
        "training_label_seq = np.array(label_tokenizer.texts_to_sequences(train_labels))\n",
        "validation_label_seq = np.array(label_tokenizer.texts_to_sequences(validation_labels))\n",
        "\n",
        "print(training_label_seq[0])\n",
        "print(training_label_seq[1])\n",
        "print(training_label_seq[2])\n",
        "print(training_label_seq.shape)\n",
        "\n",
        "print(validation_label_seq[0])\n",
        "print(validation_label_seq[1])\n",
        "print(validation_label_seq[2])\n",
        "print(validation_label_seq.shape)"
      ],
      "metadata": {
        "colab": {
          "base_uri": "https://localhost:8080/"
        },
        "id": "GK1ZJu6SEdKD",
        "outputId": "f19332a1-480d-4008-c518-e8725305f575"
      },
      "execution_count": null,
      "outputs": [
        {
          "output_type": "stream",
          "name": "stdout",
          "text": [
            "[4]\n",
            "[1]\n",
            "[2]\n",
            "(2089, 1)\n",
            "[1]\n",
            "[3]\n",
            "[4]\n",
            "(523, 1)\n"
          ]
        }
      ]
    },
    {
      "cell_type": "code",
      "source": [
        "model_64_dense = tf.keras.Sequential([\n",
        "    tf.keras.layers.Embedding(vocab_size, embedding_dim, input_length=max_length),\n",
        "    tf.keras.layers.GlobalAveragePooling1D(),\n",
        "    tf.keras.layers.Dense(24, activation='relu'),\n",
        "    tf.keras.layers.Dense(6, activation='softmax')\n",
        "])\n",
        "model_64_dense.compile(loss='sparse_categorical_crossentropy',optimizer='adam',metrics=['accuracy'])\n",
        "model_64_dense.summary()\n"
      ],
      "metadata": {
        "colab": {
          "base_uri": "https://localhost:8080/"
        },
        "id": "bc_UbneVEfzI",
        "outputId": "89c0103d-052f-4a02-94f9-78e0267baf30"
      },
      "execution_count": null,
      "outputs": [
        {
          "output_type": "stream",
          "name": "stdout",
          "text": [
            "Model: \"sequential\"\n",
            "_________________________________________________________________\n",
            " Layer (type)                Output Shape              Param #   \n",
            "=================================================================\n",
            " embedding (Embedding)       (None, 120, 16)           16000     \n",
            "                                                                 \n",
            " global_average_pooling1d (  (None, 16)                0         \n",
            " GlobalAveragePooling1D)                                         \n",
            "                                                                 \n",
            " dense (Dense)               (None, 24)                408       \n",
            "                                                                 \n",
            " dense_1 (Dense)             (None, 6)                 150       \n",
            "                                                                 \n",
            "=================================================================\n",
            "Total params: 16558 (64.68 KB)\n",
            "Trainable params: 16558 (64.68 KB)\n",
            "Non-trainable params: 0 (0.00 Byte)\n",
            "_________________________________________________________________\n"
          ]
        }
      ]
    },
    {
      "cell_type": "code",
      "source": [
        "num_epochs = 30\n",
        "history = model_64_dense.fit(train_padded, training_label_seq, epochs=num_epochs, validation_data=(validation_padded, validation_label_seq), verbose=2)"
      ],
      "metadata": {
        "colab": {
          "base_uri": "https://localhost:8080/"
        },
        "id": "eOKqXRKLEpH9",
        "outputId": "b3ae1731-bc61-4edd-811b-162af8696c32"
      },
      "execution_count": null,
      "outputs": [
        {
          "output_type": "stream",
          "name": "stdout",
          "text": [
            "Epoch 1/30\n",
            "66/66 - 13s - loss: 1.7511 - accuracy: 0.2796 - val_loss: 1.6973 - val_accuracy: 0.3308 - 13s/epoch - 203ms/step\n",
            "Epoch 2/30\n",
            "66/66 - 5s - loss: 1.6467 - accuracy: 0.3787 - val_loss: 1.5819 - val_accuracy: 0.4245 - 5s/epoch - 69ms/step\n",
            "Epoch 3/30\n",
            "66/66 - 2s - loss: 1.5158 - accuracy: 0.4064 - val_loss: 1.4324 - val_accuracy: 0.5373 - 2s/epoch - 26ms/step\n",
            "Epoch 4/30\n",
            "66/66 - 1s - loss: 1.3393 - accuracy: 0.5634 - val_loss: 1.2408 - val_accuracy: 0.6119 - 996ms/epoch - 15ms/step\n",
            "Epoch 5/30\n",
            "66/66 - 1s - loss: 1.1258 - accuracy: 0.6620 - val_loss: 1.0300 - val_accuracy: 0.7017 - 824ms/epoch - 12ms/step\n",
            "Epoch 6/30\n",
            "66/66 - 1s - loss: 0.9176 - accuracy: 0.7472 - val_loss: 0.8416 - val_accuracy: 0.7380 - 997ms/epoch - 15ms/step\n",
            "Epoch 7/30\n",
            "66/66 - 1s - loss: 0.7370 - accuracy: 0.8454 - val_loss: 0.6828 - val_accuracy: 0.8795 - 1s/epoch - 19ms/step\n",
            "Epoch 8/30\n",
            "66/66 - 1s - loss: 0.5924 - accuracy: 0.9023 - val_loss: 0.5580 - val_accuracy: 0.9159 - 1s/epoch - 15ms/step\n",
            "Epoch 9/30\n",
            "66/66 - 0s - loss: 0.4744 - accuracy: 0.9234 - val_loss: 0.4534 - val_accuracy: 0.9312 - 429ms/epoch - 7ms/step\n",
            "Epoch 10/30\n",
            "66/66 - 1s - loss: 0.3776 - accuracy: 0.9402 - val_loss: 0.3685 - val_accuracy: 0.9350 - 640ms/epoch - 10ms/step\n",
            "Epoch 11/30\n",
            "66/66 - 0s - loss: 0.3068 - accuracy: 0.9493 - val_loss: 0.3132 - val_accuracy: 0.9350 - 429ms/epoch - 7ms/step\n",
            "Epoch 12/30\n",
            "66/66 - 1s - loss: 0.2554 - accuracy: 0.9531 - val_loss: 0.2676 - val_accuracy: 0.9331 - 606ms/epoch - 9ms/step\n",
            "Epoch 13/30\n",
            "66/66 - 0s - loss: 0.2171 - accuracy: 0.9593 - val_loss: 0.2332 - val_accuracy: 0.9407 - 436ms/epoch - 7ms/step\n",
            "Epoch 14/30\n",
            "66/66 - 1s - loss: 0.1880 - accuracy: 0.9641 - val_loss: 0.2112 - val_accuracy: 0.9446 - 608ms/epoch - 9ms/step\n",
            "Epoch 15/30\n",
            "66/66 - 1s - loss: 0.1658 - accuracy: 0.9684 - val_loss: 0.1918 - val_accuracy: 0.9484 - 613ms/epoch - 9ms/step\n",
            "Epoch 16/30\n",
            "66/66 - 0s - loss: 0.1460 - accuracy: 0.9722 - val_loss: 0.1742 - val_accuracy: 0.9560 - 267ms/epoch - 4ms/step\n",
            "Epoch 17/30\n",
            "66/66 - 1s - loss: 0.1309 - accuracy: 0.9737 - val_loss: 0.1614 - val_accuracy: 0.9560 - 805ms/epoch - 12ms/step\n",
            "Epoch 18/30\n",
            "66/66 - 1s - loss: 0.1170 - accuracy: 0.9789 - val_loss: 0.1503 - val_accuracy: 0.9618 - 809ms/epoch - 12ms/step\n",
            "Epoch 19/30\n",
            "66/66 - 0s - loss: 0.1062 - accuracy: 0.9828 - val_loss: 0.1396 - val_accuracy: 0.9637 - 427ms/epoch - 6ms/step\n",
            "Epoch 20/30\n",
            "66/66 - 1s - loss: 0.0959 - accuracy: 0.9852 - val_loss: 0.1310 - val_accuracy: 0.9637 - 825ms/epoch - 12ms/step\n",
            "Epoch 21/30\n",
            "66/66 - 0s - loss: 0.0868 - accuracy: 0.9866 - val_loss: 0.1243 - val_accuracy: 0.9637 - 427ms/epoch - 6ms/step\n",
            "Epoch 22/30\n",
            "66/66 - 0s - loss: 0.0789 - accuracy: 0.9885 - val_loss: 0.1173 - val_accuracy: 0.9675 - 449ms/epoch - 7ms/step\n",
            "Epoch 23/30\n",
            "66/66 - 0s - loss: 0.0715 - accuracy: 0.9904 - val_loss: 0.1107 - val_accuracy: 0.9694 - 239ms/epoch - 4ms/step\n",
            "Epoch 24/30\n",
            "66/66 - 1s - loss: 0.0654 - accuracy: 0.9919 - val_loss: 0.1053 - val_accuracy: 0.9732 - 812ms/epoch - 12ms/step\n",
            "Epoch 25/30\n",
            "66/66 - 1s - loss: 0.0593 - accuracy: 0.9923 - val_loss: 0.1005 - val_accuracy: 0.9732 - 597ms/epoch - 9ms/step\n",
            "Epoch 26/30\n",
            "66/66 - 1s - loss: 0.0539 - accuracy: 0.9938 - val_loss: 0.0965 - val_accuracy: 0.9790 - 716ms/epoch - 11ms/step\n",
            "Epoch 27/30\n",
            "66/66 - 0s - loss: 0.0493 - accuracy: 0.9947 - val_loss: 0.0948 - val_accuracy: 0.9809 - 390ms/epoch - 6ms/step\n",
            "Epoch 28/30\n",
            "66/66 - 1s - loss: 0.0451 - accuracy: 0.9957 - val_loss: 0.0896 - val_accuracy: 0.9790 - 664ms/epoch - 10ms/step\n",
            "Epoch 29/30\n",
            "66/66 - 0s - loss: 0.0411 - accuracy: 0.9976 - val_loss: 0.0872 - val_accuracy: 0.9809 - 426ms/epoch - 6ms/step\n",
            "Epoch 30/30\n",
            "66/66 - 0s - loss: 0.0376 - accuracy: 0.9981 - val_loss: 0.0849 - val_accuracy: 0.9828 - 452ms/epoch - 7ms/step\n"
          ]
        }
      ]
    },
    {
      "cell_type": "code",
      "source": [
        "import matplotlib.pyplot as plt\n",
        "\n",
        "\n",
        "def plot_graphs(history, string):\n",
        "  plt.plot(history.history[string])\n",
        "  plt.plot(history.history['val_'+string])\n",
        "  plt.xlabel(\"Epochs\")\n",
        "  plt.ylabel(string)\n",
        "  plt.legend([string, 'val_'+string])\n",
        "  plt.show()\n",
        "\n",
        "plot_graphs(history, \"accuracy\")\n",
        "plot_graphs(history, \"loss\")"
      ],
      "metadata": {
        "colab": {
          "base_uri": "https://localhost:8080/",
          "height": 881
        },
        "id": "if-_3mMHFowm",
        "outputId": "4df2b5d3-edc1-4f61-ac15-498a8cc68e43"
      },
      "execution_count": null,
      "outputs": [
        {
          "output_type": "display_data",
          "data": {
            "text/plain": [
              "<Figure size 640x480 with 1 Axes>"
            ],
            "image/png": "[encoded data removed]"
          },
          "metadata": {}
        },
        {
          "output_type": "display_data",
          "data": {
            "text/plain": [
              "<Figure size 640x480 with 1 Axes>"
            ],
            "image/png": "[encoded data removed]"
          },
          "metadata": {}
        }
      ]
    }
  ]
}